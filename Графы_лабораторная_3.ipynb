{
 "cells": [
  {
   "cell_type": "code",
   "execution_count": 254,
   "id": "07ee7d80-40fa-4651-ad27-184354e5f645",
   "metadata": {},
   "outputs": [],
   "source": [
    "import numpy as np\n",
    "import pandas as pd\n",
    "import networkx as nx\n",
    "import matplotlib.pyplot as plt\n",
    "import graphblas as gb\n",
    "from graphblas import Matrix, Vector, Scalar, dtypes\n",
    "from graphblas import unary, binary, monoid, semiring\n",
    "from graphblas.io import mmread\n",
    "from typing import List"
   ]
  },
  {
   "cell_type": "markdown",
   "id": "f077f879-c3d3-40d7-9dbd-6627940b6428",
   "metadata": {},
   "source": [
    "# №1. Используя python-graphblas реализовать функцию поиска кратчайших путей в ориентированном графе из заданной вершины (Bellman–Ford). <br> Функция принимает представление графа, удобное для неё (загрузка, конвертация реализованы отдельно) и номер стартовой вершины. <br> Функция возвращает массив, где для каждой вершины указано расстояние до неё от указанной стартовой вершины. Если вершина не достижима или кратчайшего пути для неё не существует, то значение соответствующей ячейки равно float('inf')."
   ]
  },
  {
   "cell_type": "markdown",
   "id": "b0acb188-3ea7-482c-b060-de8a85c817cd",
   "metadata": {},
   "source": [
    "## Везде ниже:<br> push_pull_percent == 0 -> push <br> push_pull_percent == 1 -> pull <br> push_pull_percent == 0.3 -> push если степень разреженности фронта 0.3, иначе pull"
   ]
  },
  {
   "cell_type": "code",
   "execution_count": 241,
   "id": "0b0f7cec-4fc4-4db1-9bfa-353e9e00beeb",
   "metadata": {},
   "outputs": [],
   "source": [
    "def bellman_ford(A: Matrix, vertex: int, push_pull_percent=0.0) -> Vector:\n",
    "    n = A.nrows\n",
    "    v = Vector(dtypes.INT64, n)\n",
    "    v[vertex] << 0\n",
    "    w = v.dup()\n",
    "    for _ in range(n - 1):\n",
    "        last_w = w.dup()\n",
    "        if push_pull_percent == 0.0:\n",
    "            w(binary.min) << w.vxm(A, semiring.min_plus)\n",
    "        elif push_pull_percent == 1.0:\n",
    "            w(binary.min) << A.T.mxv(w, semiring.min_plus)\n",
    "        else:\n",
    "            if w.nvals / w.size > push_pull_percent:\n",
    "                w(binary.min) << A.T.mxv(w, semiring.min_plus)\n",
    "            else:\n",
    "                w(binary.min) << w.vxm(A, semiring.min_plus)\n",
    "        if w.isequal(last_w):\n",
    "            break\n",
    "      \n",
    "    last_w = w.dup()\n",
    "    if push_pull_percent == 0.0:\n",
    "        w(binary.min) << w.vxm(A, semiring.min_plus)\n",
    "    elif push_pull_percent == 1.0:\n",
    "        w(binary.min) << A.T.mxv(w, semiring.min_plus)\n",
    "    else:\n",
    "        if w.nvals / w.size > push_pull_percent:\n",
    "            w(binary.min) << A.T.mxv(w, semiring.min_plus)\n",
    "        else:\n",
    "            w(binary.min) << w.vxm(A, semiring.min_plus)\n",
    "    if not w.isequal(last_w):\n",
    "        return \"Присутсвует цикл отрицательного веса\"\n",
    "\n",
    "    result = Vector(dtypes.FP64, n)\n",
    "    for i in range(n):\n",
    "        if w[i].value is None:\n",
    "            result[i] << float('inf')\n",
    "        else:\n",
    "            result[i] << w[i]\n",
    "    return result"
   ]
  },
  {
   "cell_type": "markdown",
   "id": "1ced853d-8fff-4f0b-8acf-4338b6612853",
   "metadata": {},
   "source": [
    "# №2. Используя python-graphblas реализовать функцию поиска кратчайших путей в ориентированном графе из нескольких заданных вершин, модифицировав предыдущий алгоритм. <br>  Функция принимает представление графа, удобное для неё (загрузка, конвертация реализованы отдельно) и массив номеров стартовых вершин. <br>  Функция возвращает массив пар: вершина, и массив, где для каждой вершины указано расстояние до неё из указанной. Если вершина не достижима или кратчайшего пути для неё не существует, то значение соответствующей ячейки равно float('inf')."
   ]
  },
  {
   "cell_type": "code",
   "execution_count": 234,
   "id": "37be521e-3be7-4848-85e7-06b2a072be3a",
   "metadata": {},
   "outputs": [],
   "source": [
    "def mult_bellman_ford(A: Matrix, start_vertices: List[int], push_pull_percent=0.0) -> Matrix:\n",
    "    n = A.ncols\n",
    "    number_of_start_vertex = len(start_vertices)\n",
    "    f = Matrix(dtypes.INT64, number_of_start_vertex, n)\n",
    "    for ind, val in enumerate(start_vertices):\n",
    "        f[ind, val] << 0\n",
    "    w = f.dup()\n",
    "    for _ in range(n - 1):\n",
    "        last_w = w.dup()\n",
    "        for i in range(number_of_start_vertex):\n",
    "            if push_pull_percent == 0.0:\n",
    "                w[i, :](binary.min) << w[i, :].vxm(A, semiring.min_plus)\n",
    "            elif push_pull_percent == 1.0:\n",
    "                w[i, :](binary.min) << A.T.mxv(w[i, :], semiring.min_plus)\n",
    "            else:\n",
    "                if w[i, :].nvals / w[i, :].size > push_pull_percent:\n",
    "                    w[i, :](binary.min) << A.T.mxv(w[i, :], semiring.min_plus)\n",
    "                else:\n",
    "                    w[i, :](binary.min) << w[i, :].vxm(A, semiring.min_plus)         \n",
    "        if w.isequal(last_w):\n",
    "            break\n",
    "\n",
    "    last_w = w.dup()\n",
    "    for i in range(number_of_start_vertex):\n",
    "        if push_pull_percent == 0.0:\n",
    "            w[i, :](binary.min) << w[i, :].vxm(A, semiring.min_plus)\n",
    "        elif push_pull_percent == 1.0:\n",
    "            w[i, :](binary.min) << A.T.mxv(w[i, :], semiring.min_plus)\n",
    "        else:\n",
    "            if w[i, :].nvals / w[i, :].size > push_pull_percent:\n",
    "                w[i, :](binary.min) << A.T.mxv(w[i, :], semiring.min_plus)\n",
    "            else:\n",
    "                w[i, :](binary.min) << w[i, :].vxm(A, semiring.min_plus)\n",
    "    if not w.isequal(last_w):\n",
    "        return \"Присутсвует цикл отрицательного веса\"\n",
    "\n",
    "    result = Matrix(dtypes.FP64, number_of_start_vertex, n)\n",
    "    for i in range(number_of_start_vertex):\n",
    "        for j in range(n):\n",
    "            if w[i,j].value is None:\n",
    "                result[i,j] << float('inf')\n",
    "            else:\n",
    "                result[i,j] << w[i,j]\n",
    "    return result"
   ]
  },
  {
   "cell_type": "markdown",
   "id": "efe37895-074a-49cc-aae0-8aa5890dbbc8",
   "metadata": {},
   "source": [
    "# №3. Используя python-graphblas реализовать две функции поиска кратчайших путей в ориентированном графе для всех пар вершин (Floyd–Warshall и вычисление транзитивного замыкания). <br> Функции принимают представление графа, удобное для неё (загрузка, конвертация реализованы отдельно). <br> Функции возвращают массив пар: вершина, и массив, где для каждой вершины указано расстояние до неё из указанной. Если вершина не достижима или кратчайшего пути для неё не существует, то значение соответствующей ячейки равно float('inf')."
   ]
  },
  {
   "cell_type": "code",
   "execution_count": 235,
   "id": "50fccd0f-02bf-4700-8cb6-648fd35969de",
   "metadata": {},
   "outputs": [],
   "source": [
    "def floyd_warshall(A: Matrix) -> Matrix:\n",
    "    n = A.nrows\n",
    "    w = A.dup()\n",
    "    for k in range(n):\n",
    "        w_c = Matrix(dtypes.INT64, n, n)\n",
    "        w_r = Matrix(dtypes.INT64, n, n)\n",
    "        w_c[:,k] = w[:,k].dup()\n",
    "        w_r[k,:] = w[k,:].dup()\n",
    "        w(binary.min) << w_c.mxm(w_r.dup(), semiring.min_plus)\n",
    "\n",
    "    last_w = w.dup()\n",
    "    w_c = Matrix(dtypes.INT64, n, n)\n",
    "    w_r = Matrix(dtypes.INT64, n, n)\n",
    "    w_c[:,k] = w[:,k].dup()\n",
    "    w_r[k,:] = w[k,:].dup()\n",
    "    w(binary.min) << w_c.mxm(w_r.dup(), semiring.min_plus)\n",
    "    if not w.isequal(last_w):\n",
    "        return \"Присутсвует цикл отрицательного веса\"\n",
    "\n",
    "    result = Matrix(dtypes.FP64, n, n)\n",
    "    for i in range(n):\n",
    "        for j in range(n):\n",
    "            if w[i,j].value is None:\n",
    "                result[i,j] << float('inf')\n",
    "            else:\n",
    "                result[i,j] << w[i,j]\n",
    "    return result\n",
    "\n",
    "def transitive_closure(A: Matrix) -> Matrix:\n",
    "    n = A.nrows\n",
    "    w = A.dup()\n",
    "    for i in range(n):\n",
    "        w(binary.min) << w.mxm(w, semiring.min_plus)\n",
    "\n",
    "    last_w = w.dup()\n",
    "    w(binary.min) << w.mxm(w, semiring.min_plus)\n",
    "    if not w.isequal(last_w):\n",
    "        return \"Присутсвует цикл отрицательного веса\"\n",
    "        \n",
    "    result = Matrix(dtypes.FP64, n, n)\n",
    "    for i in range(n):\n",
    "        for j in range(n):\n",
    "            if w[i,j].value is None:\n",
    "                result[i,j] << float('inf')\n",
    "            else:\n",
    "                result[i,j] << w[i,j]\n",
    "    return result"
   ]
  },
  {
   "cell_type": "markdown",
   "id": "344702ef-fb51-47fe-a92e-41e8e981351f",
   "metadata": {},
   "source": [
    "# А теперь тесты..."
   ]
  },
  {
   "cell_type": "code",
   "execution_count": 267,
   "id": "3804e44c-870b-4c2e-a2ed-861dde3fec26",
   "metadata": {},
   "outputs": [],
   "source": [
    "def test(A: Matrix, print_flag=False, n_vertices=20):\n",
    "    s1 = np.random.randint(0, A.ncols)\n",
    "    s2 = np.random.randint(0, A.ncols, n_vertices)\n",
    "    print(f'Вершина для bellman_ford: {s1}; вершины для mult_bellman_ford: {s2}')\n",
    "    if print_flag:\n",
    "        result = [bellman_ford(A, s1), mult_bellman_ford(A, s2), floyd_warshall(A), transitive_closure(A)]\n",
    "        for ind, algo_name in enumerate(['bellman_ford:', 'mult_bellman_ford:', 'floyd_warshall:', 'transitive_closure:']):\n",
    "            print(algo_name, result[ind], end='; ')\n",
    "    print('bellman_ford:')\n",
    "    %timeit bellman_ford(A, s1)\n",
    "    \n",
    "    print('mult_bellman_ford:')\n",
    "    %timeit mult_bellman_ford(A, s2)\n",
    "    \n",
    "    print('floyd_warshall:')\n",
    "    %timeit floyd_warshall(A)\n",
    "    \n",
    "    print('transitive_closure:')\n",
    "    %timeit transitive_closure(A)"
   ]
  },
  {
   "cell_type": "code",
   "execution_count": 237,
   "id": "a946ac0b-2729-4fc3-b07c-a36de828e0e3",
   "metadata": {},
   "outputs": [],
   "source": [
    "data = [\n",
    "    [3, 0, 3, 5, 6, 0, 6, 1, 6, 2, 4, 1],\n",
    "    [0, 1, 2, 2, 2, 3, 3, 4, 4, 5, 5, 6],\n",
    "    [3, 2, 3, 1, 5, 3, 7, 8, 3, 1, 7, 4],\n",
    "]\n",
    "rows, cols, weights = data\n",
    "M1 = Matrix.from_coo(rows, cols, weights)"
   ]
  },
  {
   "cell_type": "code",
   "execution_count": 238,
   "id": "42359a44-3e69-4e8f-8f0e-b2c4b8161377",
   "metadata": {},
   "outputs": [
    {
     "data": {
      "image/png": "[encoded data removed]",
      "text/plain": [
       "<Figure size 640x480 with 1 Axes>"
      ]
     },
     "metadata": {},
     "output_type": "display_data"
    }
   ],
   "source": [
    "gb.viz.draw(M1)"
   ]
  },
  {
   "cell_type": "code",
   "execution_count": 246,
   "id": "9d9d5185-d954-42ea-84c9-41172fbee695",
   "metadata": {},
   "outputs": [
    {
     "name": "stdout",
     "output_type": "stream",
     "text": [
      "Вершина для bellman_ford: 1; вершины для mult_bellman_ford: [5 0 5]\n",
      "bellman_ford: \"v_2550954\"  nvals  size  dtype  format\n",
      "gb.Vector        7     7   FP64  bitmap\n",
      "---------------------------------------\n",
      "index     0    1    2     3    4     5    6\n",
      "value  14.0  0.0  9.0  11.0  7.0  10.0  4.0; mult_bellman_ford: \"M_514568\"  nvals  nrows  ncols  dtype   format\n",
      "gb.Matrix      21      3      7   FP64  bitmapr\n",
      "-----------------------------------------------\n",
      "     0    1    2    3    4    5    6\n",
      "0  inf  inf  1.0  inf  inf  0.0  inf\n",
      "1  0.0  2.0  6.0  3.0  9.0  7.0  6.0\n",
      "2  inf  inf  1.0  inf  inf  0.0  inf; floyd_warshall: \"M_514595\"  nvals  nrows  ncols  dtype   format\n",
      "gb.Matrix      49      7      7   FP64  bitmapr\n",
      "-----------------------------------------------\n",
      "      0     1    2     3     4     5     6\n",
      "0   6.0   2.0  6.0   3.0   9.0   7.0   6.0\n",
      "1  14.0  16.0  9.0  11.0   7.0  10.0   4.0\n",
      "2   inf   inf  2.0   inf   inf   1.0   inf\n",
      "3   3.0   5.0  3.0   6.0  12.0   4.0   9.0\n",
      "4   inf   inf  8.0   inf   inf   7.0   inf\n",
      "5   inf   inf  1.0   inf   inf   2.0   inf\n",
      "6  10.0  12.0  5.0   7.0   3.0   6.0  16.0; transitive_closure: \"M_514598\"  nvals  nrows  ncols  dtype   format\n",
      "gb.Matrix      49      7      7   FP64  bitmapr\n",
      "-----------------------------------------------\n",
      "      0     1    2     3     4     5     6\n",
      "0   6.0   2.0  6.0   3.0   9.0   7.0   6.0\n",
      "1  14.0  16.0  9.0  11.0   7.0  10.0   4.0\n",
      "2   inf   inf  2.0   inf   inf   1.0   inf\n",
      "3   3.0   5.0  3.0   6.0  12.0   4.0   9.0\n",
      "4   inf   inf  8.0   inf   inf   7.0   inf\n",
      "5   inf   inf  1.0   inf   inf   2.0   inf\n",
      "6  10.0  12.0  5.0   7.0   3.0   6.0  16.0; bellman_ford:\n",
      "286 µs ± 996 ns per loop (mean ± std. dev. of 7 runs, 1,000 loops each)\n",
      "mult_bellman_ford:\n",
      "1.4 ms ± 2.62 µs per loop (mean ± std. dev. of 7 runs, 1,000 loops each)\n",
      "floyd_warshall:\n",
      "2.22 ms ± 2.47 µs per loop (mean ± std. dev. of 7 runs, 100 loops each)\n",
      "transitive_closure:\n",
      "1.44 ms ± 5.58 µs per loop (mean ± std. dev. of 7 runs, 1,000 loops each)\n"
     ]
    }
   ],
   "source": [
    "test(M1, True, 3)"
   ]
  },
  {
   "cell_type": "code",
   "execution_count": 247,
   "id": "b497eebe-2a9e-4963-a37b-626b827bdac8",
   "metadata": {},
   "outputs": [
    {
     "data": {
      "text/html": [
       "<div>\n",
       "<style>\n",
       "table.gb-info-table {\n",
       "    border: 1px solid black;\n",
       "    max-width: 100%;\n",
       "    margin-top: 0px;\n",
       "    margin-bottom: 0px;\n",
       "    padding-top: 0px;\n",
       "    padding-bottom: 0px;\n",
       "}\n",
       "\n",
       "td.gb-info-name-cell {\n",
       "    white-space: nowrap;\n",
       "}\n",
       "\n",
       "details.gb-arg-details {\n",
       "    margin-top: 0px;\n",
       "    margin-bottom: 0px;\n",
       "    padding-top: 0px;\n",
       "    padding-bottom: 5px;\n",
       "    margin-left: 10px;\n",
       "}\n",
       "\n",
       "summary.gb-arg-summary {\n",
       "    display: list-item;\n",
       "    outline: none;\n",
       "    margin-top: 0px;\n",
       "    margin-bottom: 0px;\n",
       "    padding-top: 0px;\n",
       "    padding-bottom: 0px;\n",
       "    margin-left: -10px;\n",
       "}\n",
       "\n",
       "details.gb-expr-details {\n",
       "    margin-top: 0px;\n",
       "    margin-bottom: 0px;\n",
       "    padding-top: 0px;\n",
       "    padding-bottom: 5px;\n",
       "}\n",
       "\n",
       "summary.gb-expr-summary {\n",
       "    display: list-item;\n",
       "    outline: none;\n",
       "    margin-top: 0px;\n",
       "    margin-bottom: 0px;\n",
       "    padding-top: 0px;\n",
       "    padding-bottom: 0px;\n",
       "}\n",
       "\n",
       "blockquote.gb-expr-blockquote {\n",
       "    margin-top: 5px;\n",
       "    margin-bottom: 0px;\n",
       "    padding-top: 0px;\n",
       "    padding-bottom: 0px;\n",
       "    margin-left: 15px;\n",
       "}\n",
       "\n",
       ".gb-scalar {\n",
       "    margin-top: 0px;\n",
       "    margin-bottom: 0px;\n",
       "    padding-top: 0px;\n",
       "    padding-bottom: 5px;\n",
       "}\n",
       "\n",
       "/* modify pandas dataframe */\n",
       "table.dataframe {\n",
       "    margin-top: 0px;\n",
       "    margin-bottom: 0px;\n",
       "    padding-top: 0px;\n",
       "    padding-bottom: 0px;\n",
       "}\n",
       "\n",
       "/* expression tooltips */\n",
       ".expr-tooltip .tooltip-circle {\n",
       "    background: #9a9cc6;\n",
       "    color: #fff;\n",
       "    border-radius: 50%;\n",
       "    width: 40px;\n",
       "    height: 40px;\n",
       "    padding-left: 4px;\n",
       "    padding-right: 4px;\n",
       "}\n",
       ".expr-tooltip .tooltip-text {\n",
       "    visibility: hidden;\n",
       "    position: absolute;\n",
       "    width: 450px;\n",
       "    background: #eef;\n",
       "    border: 1px solid #99a;\n",
       "    text-align: left;\n",
       "    border-radius: 6px;\n",
       "    padding: 3px 3px 3px 8px;\n",
       "    margin-left: 6px;\n",
       "}\n",
       ".expr-tooltip:hover .tooltip-text {\n",
       "    visibility: visible;\n",
       "}\n",
       ".expr-tooltip code {\n",
       "    background-color: #f8ffed;\n",
       "}\n",
       "</style>\n",
       "<details open class=\"gb-arg-details\"><summary class=\"gb-arg-summary\"><tt>M<sub>625717</sub></tt><div>\n",
       "<table class=\"gb-info-table\">\n",
       "  <tr>\n",
       "    <td rowspan=\"2\" class=\"gb-info-name-cell\"><pre>gb.Matrix</pre></td>\n",
       "    <td><pre>nvals</pre></td>\n",
       "    <td><pre>nrows</pre></td>\n",
       "    <td><pre>ncols</pre></td>\n",
       "    <td><pre>dtype</pre></td>\n",
       "    <td><pre>format</pre></td>\n",
       "  </tr>\n",
       "  <tr>\n",
       "    <td>5</td>\n",
       "    <td>4</td>\n",
       "    <td>4</td>\n",
       "    <td>INT64</td>\n",
       "    <td>bitmapr</td>\n",
       "  </tr>\n",
       "</table>\n",
       "</div>\n",
       "</summary><div>\n",
       "<style scoped>\n",
       "    .dataframe tbody tr th:only-of-type {\n",
       "        vertical-align: middle;\n",
       "    }\n",
       "\n",
       "    .dataframe tbody tr th {\n",
       "        vertical-align: top;\n",
       "    }\n",
       "\n",
       "    .dataframe thead th {\n",
       "        text-align: right;\n",
       "    }\n",
       "</style>\n",
       "<table border=\"1\" class=\"dataframe\">\n",
       "  <thead>\n",
       "    <tr style=\"text-align: right;\">\n",
       "      <th></th>\n",
       "      <th>0</th>\n",
       "      <th>1</th>\n",
       "      <th>2</th>\n",
       "      <th>3</th>\n",
       "    </tr>\n",
       "  </thead>\n",
       "  <tbody>\n",
       "    <tr>\n",
       "      <th>0</th>\n",
       "      <td></td>\n",
       "      <td></td>\n",
       "      <td></td>\n",
       "      <td>2</td>\n",
       "    </tr>\n",
       "    <tr>\n",
       "      <th>1</th>\n",
       "      <td>3</td>\n",
       "      <td></td>\n",
       "      <td>-2</td>\n",
       "      <td></td>\n",
       "    </tr>\n",
       "    <tr>\n",
       "      <th>2</th>\n",
       "      <td></td>\n",
       "      <td></td>\n",
       "      <td></td>\n",
       "      <td>-5</td>\n",
       "    </tr>\n",
       "    <tr>\n",
       "      <th>3</th>\n",
       "      <td></td>\n",
       "      <td>-1</td>\n",
       "      <td></td>\n",
       "      <td></td>\n",
       "    </tr>\n",
       "  </tbody>\n",
       "</table>\n",
       "</div></details></div>"
      ],
      "text/plain": [
       "\"M_625717\"  nvals  nrows  ncols  dtype   format\n",
       "gb.Matrix       5      4      4  INT64  bitmapr\n",
       "-----------------------------------------------\n",
       "   0   1   2   3\n",
       "0              2\n",
       "1  3      -2    \n",
       "2             -5\n",
       "3     -1        "
      ]
     },
     "execution_count": 247,
     "metadata": {},
     "output_type": "execute_result"
    }
   ],
   "source": [
    "data = [\n",
    "    [0, 1, 1, 2, 3],\n",
    "    [3, 0, 2, 3, 1],\n",
    "    [2, 3, -2, -5, -1],\n",
    "]\n",
    "rows, cols, weights = data\n",
    "M2 = Matrix.from_coo(rows, cols, weights)\n",
    "M2"
   ]
  },
  {
   "cell_type": "code",
   "execution_count": 163,
   "id": "7d6d2f38-6f74-4ef0-a289-a748ac2f203e",
   "metadata": {},
   "outputs": [
    {
     "data": {
      "image/png": "[encoded data removed]",
      "text/plain": [
       "<Figure size 640x480 with 1 Axes>"
      ]
     },
     "metadata": {},
     "output_type": "display_data"
    }
   ],
   "source": [
    "gb.viz.draw(M2)"
   ]
  },
  {
   "cell_type": "code",
   "execution_count": 248,
   "id": "01785dcf-09c3-440a-b46c-c8a47bc87f20",
   "metadata": {},
   "outputs": [
    {
     "name": "stdout",
     "output_type": "stream",
     "text": [
      "Вершина для bellman_ford: 0; вершины для mult_bellman_ford: [3 0 0]\n",
      "bellman_ford: Присутсвует цикл отрицательного веса; mult_bellman_ford: Присутсвует цикл отрицательного веса; floyd_warshall: Присутсвует цикл отрицательного веса; transitive_closure: Присутсвует цикл отрицательного веса; bellman_ford:\n",
      "83.7 µs ± 60.9 ns per loop (mean ± std. dev. of 7 runs, 10,000 loops each)\n",
      "mult_bellman_ford:\n",
      "670 µs ± 545 ns per loop (mean ± std. dev. of 7 runs, 1,000 loops each)\n",
      "floyd_warshall:\n",
      "550 µs ± 4.74 µs per loop (mean ± std. dev. of 7 runs, 1,000 loops each)\n",
      "transitive_closure:\n",
      "63 µs ± 240 ns per loop (mean ± std. dev. of 7 runs, 10,000 loops each)\n"
     ]
    }
   ],
   "source": [
    "test(M2, True, 3)"
   ]
  },
  {
   "cell_type": "markdown",
   "id": "f126a4c2-64c8-43d9-93e1-8c19f354784b",
   "metadata": {},
   "source": [
    "# Все работает корректно, видно что на малых графах довольно выгодно пользоваться транзитивным замыканием "
   ]
  },
  {
   "cell_type": "markdown",
   "id": "25245f4f-eeb0-41da-b888-ae4fba3f6d7d",
   "metadata": {},
   "source": [
    "# №4. (+3 балла) Провести экспериментальное исследование полученных реализаций на некоторых больших графах в формате Matrix Market с сайта SuiteSparse Matrix Collection и на случайных сгенерированных. При этом описать зависимость времени работы всех полученных реализаций от размеров графа, его степени разреженности, количестве стартовых вершин. В частности выяснить, начиная с какой доли вершин в графе целесообразнее использовать алгоритм поиска кратчайших путей для всех пар вершин вместо того, чтобы решать задачу поиска кратчайших путей из нескольких стартовых (модифицированный Bellman-Ford)."
   ]
  },
  {
   "cell_type": "code",
   "execution_count": 268,
   "id": "e0b078b0-3344-4b23-af4c-a9c12eb7a262",
   "metadata": {},
   "outputs": [
    {
     "name": "stdout",
     "output_type": "stream",
     "text": [
      "name: 494_bus.mtx; nvals: 1666, nrows: 494, ncols: 494\n",
      "Вершина для bellman_ford: 309; вершины для mult_bellman_ford: [246 231 321 122  68 434  18 188 201 281 229 305 321 440 408 179 143 492\n",
      " 417 200]\n",
      "bellman_ford:\n",
      "21.6 ms ± 14.3 µs per loop (mean ± std. dev. of 7 runs, 10 loops each)\n",
      "mult_bellman_ford:\n",
      "691 ms ± 957 µs per loop (mean ± std. dev. of 7 runs, 1 loop each)\n",
      "floyd_warshall:\n",
      "7.56 s ± 27.6 ms per loop (mean ± std. dev. of 7 runs, 1 loop each)\n",
      "transitive_closure:\n",
      "7.29 s ± 23.5 ms per loop (mean ± std. dev. of 7 runs, 1 loop each)\n",
      "\n",
      "name: arc130.mtx; nvals: 1282, nrows: 130, ncols: 130\n",
      "Вершина для bellman_ford: 53; вершины для mult_bellman_ford: [ 26  90  29  84  82  48  22   9  52   3   5 123  88  30  56  47  89   1\n",
      "  95  94]\n",
      "bellman_ford:\n",
      "4.92 ms ± 3.22 µs per loop (mean ± std. dev. of 7 runs, 100 loops each)\n",
      "mult_bellman_ford:\n",
      "149 ms ± 480 µs per loop (mean ± std. dev. of 7 runs, 10 loops each)\n",
      "floyd_warshall:\n",
      "528 ms ± 3.88 ms per loop (mean ± std. dev. of 7 runs, 1 loop each)\n",
      "transitive_closure:\n",
      "129 ms ± 326 µs per loop (mean ± std. dev. of 7 runs, 10 loops each)\n",
      "\n"
     ]
    }
   ],
   "source": [
    "import os\n",
    "count = 0\n",
    "files = ['494_bus.mtx', 'arc130.mtx']\n",
    "for file in files:\n",
    "    matrix = mmread(f'./Графы_ИТМО/матрицы/{file}')\n",
    "    print(f'name: {file}; nvals: {matrix.nvals}, nrows: {matrix.nrows}, ncols: {matrix.ncols}')\n",
    "    test(matrix, False)\n",
    "    print()"
   ]
  },
  {
   "cell_type": "code",
   "execution_count": 269,
   "id": "b9b2d554-3ea1-42a2-ac6e-8b803310003f",
   "metadata": {},
   "outputs": [],
   "source": [
    "def generate_random_graph(n, density):\n",
    "    matrix = np.zeros((n, n))\n",
    "    for i in range(n):\n",
    "        for j in range(i, n):\n",
    "            if np.random.rand() < density:\n",
    "                matrix[i-1, j-1] = 1\n",
    "    np.fill_diagonal(matrix, 0)\n",
    "    matrix += matrix.T\n",
    "    matrix = Matrix.from_dense(matrix, missing_value=0.0)\n",
    "    return matrix"
   ]
  },
  {
   "cell_type": "code",
   "execution_count": null,
   "id": "b5ff0c9e-4730-4192-8199-814c3b698089",
   "metadata": {},
   "outputs": [
    {
     "name": "stdout",
     "output_type": "stream",
     "text": [
      "Количество вершин: 50, плотность: 0.1, количество стартовых вершин: 20\n",
      "nvals: 248, nrows: 50, ncols: 50\n",
      "Вершина для bellman_ford: 28; вершины для mult_bellman_ford: [10 16 33 11 20 10  0 10  4  0 26 23  4  4 24 19 22  6 36 17]\n",
      "bellman_ford:\n",
      "1.25 ms ± 1.88 µs per loop (mean ± std. dev. of 7 runs, 1,000 loops each)\n",
      "mult_bellman_ford:\n",
      "38.9 ms ± 126 µs per loop (mean ± std. dev. of 7 runs, 10 loops each)\n",
      "floyd_warshall:\n",
      "79.5 ms ± 223 µs per loop (mean ± std. dev. of 7 runs, 10 loops each)\n",
      "transitive_closure:\n",
      "85.1 ms ± 303 µs per loop (mean ± std. dev. of 7 runs, 10 loops each)\n",
      "\n",
      "Количество вершин: 100, плотность: 0.1, количество стартовых вершин: 20\n",
      "nvals: 968, nrows: 100, ncols: 100\n",
      "Вершина для bellman_ford: 72; вершины для mult_bellman_ford: [19 89 95 75 22 62 39 42 65 76  8 13 26 51 46 93 13 20 42 49]\n",
      "bellman_ford:\n",
      "2.34 ms ± 5.4 µs per loop (mean ± std. dev. of 7 runs, 100 loops each)\n",
      "mult_bellman_ford:\n",
      "67.6 ms ± 269 µs per loop (mean ± std. dev. of 7 runs, 10 loops each)\n",
      "floyd_warshall:\n",
      "316 ms ± 1.46 ms per loop (mean ± std. dev. of 7 runs, 1 loop each)\n",
      "transitive_closure:\n",
      "358 ms ± 2.65 ms per loop (mean ± std. dev. of 7 runs, 1 loop each)\n",
      "\n",
      "Количество вершин: 200, плотность: 0.1, количество стартовых вершин: 20\n",
      "nvals: 4038, nrows: 200, ncols: 200\n",
      "Вершина для bellman_ford: 107; вершины для mult_bellman_ford: [ 31 161 174  39 199  65  65 178 124  74   2 128 119 110 190 196 140   9\n",
      " 100 190]\n",
      "bellman_ford:\n",
      "4.53 ms ± 17.8 µs per loop (mean ± std. dev. of 7 runs, 100 loops each)\n",
      "mult_bellman_ford:\n",
      "127 ms ± 241 µs per loop (mean ± std. dev. of 7 runs, 10 loops each)\n",
      "floyd_warshall:\n",
      "1.26 s ± 6.38 ms per loop (mean ± std. dev. of 7 runs, 1 loop each)\n",
      "transitive_closure:\n",
      "1.49 s ± 2.45 ms per loop (mean ± std. dev. of 7 runs, 1 loop each)\n",
      "\n",
      "Количество вершин: 500, плотность: 0.1, количество стартовых вершин: 20\n",
      "nvals: 24768, nrows: 500, ncols: 500\n",
      "Вершина для bellman_ford: 161; вершины для mult_bellman_ford: [142 297 124 297 311 499 166   0 316 344 266 323 322 270  89 199  23 152\n",
      " 437 157]\n",
      "bellman_ford:\n",
      "11.3 ms ± 48.1 µs per loop (mean ± std. dev. of 7 runs, 100 loops each)\n",
      "mult_bellman_ford:\n",
      "313 ms ± 909 µs per loop (mean ± std. dev. of 7 runs, 1 loop each)\n",
      "floyd_warshall:\n",
      "7.95 s ± 34.9 ms per loop (mean ± std. dev. of 7 runs, 1 loop each)\n",
      "transitive_closure:\n",
      "15.3 s ± 41.6 ms per loop (mean ± std. dev. of 7 runs, 1 loop each)\n",
      "\n",
      "Количество вершин: 1000, плотность: 0.1, количество стартовых вершин: 20\n",
      "nvals: 100394, nrows: 1000, ncols: 1000\n",
      "Вершина для bellman_ford: 955; вершины для mult_bellman_ford: [106 501 703 869 993 250 520 241 135 180 449  67 225 857 488 953 890 171\n",
      " 943 325]\n",
      "bellman_ford:\n",
      "22.6 ms ± 73.5 µs per loop (mean ± std. dev. of 7 runs, 10 loops each)\n",
      "mult_bellman_ford:\n",
      "622 ms ± 1.44 ms per loop (mean ± std. dev. of 7 runs, 1 loop each)\n",
      "floyd_warshall:\n",
      "32.1 s ± 125 ms per loop (mean ± std. dev. of 7 runs, 1 loop each)\n",
      "transitive_closure:\n"
     ]
    }
   ],
   "source": [
    "for i in [50, 100, 200, 500, 1000]:\n",
    "  print(f'Количество вершин: {i}, плотность: 0.1, количество стартовых вершин: 20')\n",
    "  random_graph = generate_random_graph(i, 0.1)\n",
    "  print(f'nvals: {random_graph.nvals}, nrows: {random_graph.nrows}, ncols: {random_graph.ncols}')\n",
    "  test(random_graph, False)\n",
    "  print()"
   ]
  },
  {
   "cell_type": "markdown",
   "id": "1f29007d-c457-485e-9688-accaa5700a7e",
   "metadata": {},
   "source": [
    "# Уже даже на небольших графах довольно долго работают алгоритмы Флойда Уоршелла и транзитивное замыкание, я также запускал на графах с еще бОльшим числом вершин, но это занимает очень много времени. Также видно, что быстрее будет запустить алгоритм беллмана форда 20 раз по одной вершине, чем сразу на 20, однако с ростом числа стартовых вершин лучше запускать сразу модифицированный алгоритм (P.S. Недождался транзитивное замыкание)"
   ]
  },
  {
   "cell_type": "markdown",
   "id": "a91042dd-78ff-4338-ba9e-4de9b572b58a",
   "metadata": {},
   "source": [
    "# №5. (+2 балла) Оценить эффект от использования push/pull direction optimization для векторно-матричных операциях в алгоритмах. Попробовать разные стратегии (всегда push, всегда pull, использовать порог наполненности вектора и т.д.)."
   ]
  },
  {
   "cell_type": "code",
   "execution_count": 277,
   "id": "855c55d3-8aba-499c-be60-b578441b8075",
   "metadata": {},
   "outputs": [
    {
     "name": "stdout",
     "output_type": "stream",
     "text": [
      "Количество вершин: 1000, плотность: 0.4, количество стартовых вершин: 20, уровень push/pull: 0.0\n",
      "nvals: 399728, nrows: 1000, ncols: 1000\n",
      "673 ms ± 4.2 ms per loop (mean ± std. dev. of 7 runs, 1 loop each)\n",
      "\n",
      "Количество вершин: 1000, плотность: 0.4, количество стартовых вершин: 20, уровень push/pull: 0.1\n",
      "nvals: 399728, nrows: 1000, ncols: 1000\n",
      "681 ms ± 4.98 ms per loop (mean ± std. dev. of 7 runs, 1 loop each)\n",
      "\n",
      "Количество вершин: 1000, плотность: 0.4, количество стартовых вершин: 20, уровень push/pull: 0.3\n",
      "nvals: 399728, nrows: 1000, ncols: 1000\n",
      "677 ms ± 8.8 ms per loop (mean ± std. dev. of 7 runs, 1 loop each)\n",
      "\n",
      "Количество вершин: 1000, плотность: 0.4, количество стартовых вершин: 20, уровень push/pull: 0.7\n",
      "nvals: 399728, nrows: 1000, ncols: 1000\n",
      "681 ms ± 2.04 ms per loop (mean ± std. dev. of 7 runs, 1 loop each)\n",
      "\n",
      "Количество вершин: 1000, плотность: 0.4, количество стартовых вершин: 20, уровень push/pull: 1.0\n",
      "nvals: 399728, nrows: 1000, ncols: 1000\n",
      "672 ms ± 6.54 ms per loop (mean ± std. dev. of 7 runs, 1 loop each)\n",
      "\n"
     ]
    }
   ],
   "source": [
    "random_graph = generate_random_graph(1000, 0.4)\n",
    "for i in [0.0, 0.1, 0.3, 0.7, 1.0]:\n",
    "  print(f'Количество вершин: 1000, плотность: 0.4, количество стартовых вершин: 20, уровень push/pull: {i}')\n",
    "  print(f'nvals: {random_graph.nvals}, nrows: {random_graph.nrows}, ncols: {random_graph.ncols}')\n",
    "  %timeit mult_bellman_ford(random_graph, range(0, 20), i)\n",
    "  print()"
   ]
  },
  {
   "cell_type": "code",
   "execution_count": 279,
   "id": "4317905a-a497-4aa7-8118-d66d45b8f352",
   "metadata": {},
   "outputs": [
    {
     "name": "stdout",
     "output_type": "stream",
     "text": [
      "Количество вершин: 1000, плотность: 0.4, уровень push/pull: 0.0\n",
      "nvals: 399704, nrows: 1000, ncols: 1000\n",
      "24.9 ms ± 108 µs per loop (mean ± std. dev. of 7 runs, 10 loops each)\n",
      "\n",
      "Количество вершин: 1000, плотность: 0.4, уровень push/pull: 0.1\n",
      "nvals: 399704, nrows: 1000, ncols: 1000\n",
      "24.7 ms ± 66.2 µs per loop (mean ± std. dev. of 7 runs, 10 loops each)\n",
      "\n",
      "Количество вершин: 1000, плотность: 0.4, уровень push/pull: 0.3\n",
      "nvals: 399704, nrows: 1000, ncols: 1000\n",
      "24.8 ms ± 111 µs per loop (mean ± std. dev. of 7 runs, 10 loops each)\n",
      "\n",
      "Количество вершин: 1000, плотность: 0.4, уровень push/pull: 0.7\n",
      "nvals: 399704, nrows: 1000, ncols: 1000\n",
      "24.9 ms ± 129 µs per loop (mean ± std. dev. of 7 runs, 10 loops each)\n",
      "\n",
      "Количество вершин: 1000, плотность: 0.4, уровень push/pull: 1.0\n",
      "nvals: 399704, nrows: 1000, ncols: 1000\n",
      "24.9 ms ± 70.8 µs per loop (mean ± std. dev. of 7 runs, 10 loops each)\n",
      "\n"
     ]
    }
   ],
   "source": [
    "random_graph = generate_random_graph(1000, 0.4)\n",
    "for i in [0.0, 0.1, 0.3, 0.7, 1.0]:\n",
    "  print(f'Количество вершин: 1000, плотность: 0.4, уровень push/pull: {i}')\n",
    "  print(f'nvals: {random_graph.nvals}, nrows: {random_graph.nrows}, ncols: {random_graph.ncols}')\n",
    "  %timeit bellman_ford(random_graph, np.random.randint(0, random_graph.nrows), i)\n",
    "  print()"
   ]
  },
  {
   "cell_type": "markdown",
   "id": "af3aa98d-658d-4891-ae29-3daa6f48c5d7",
   "metadata": {},
   "source": [
    "# В данном случае видно, что pull реализация работает либо также, либо чуть быстрее"
   ]
  },
  {
   "cell_type": "code",
   "execution_count": null,
   "id": "446c85e7-a2f7-461f-b3f5-e74dcb41f41c",
   "metadata": {},
   "outputs": [],
   "source": []
  }
 ],
 "metadata": {
  "kernelspec": {
   "display_name": "Python 3 (ipykernel)",
   "language": "python",
   "name": "python3"
  },
  "language_info": {
   "codemirror_mode": {
    "name": "ipython",
    "version": 3
   },
   "file_extension": ".py",
   "mimetype": "text/x-python",
   "name": "python",
   "nbconvert_exporter": "python",
   "pygments_lexer": "ipython3",
   "version": "3.11.7"
  }
 },
 "nbformat": 4,
 "nbformat_minor": 5
}
